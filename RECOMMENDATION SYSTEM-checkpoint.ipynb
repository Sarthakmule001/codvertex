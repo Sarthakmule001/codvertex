{
 "cells": [
  {
   "cell_type": "code",
   "execution_count": 4,
   "id": "b342a9f8-d18d-40af-bc0b-b3964df1777f",
   "metadata": {},
   "outputs": [
    {
     "name": "stdout",
     "output_type": "stream",
     "text": [
      "Requirement already satisfied: pandas in c:\\users\\admin\\anaconda3\\lib\\site-packages (2.2.2)\n",
      "Requirement already satisfied: numpy in c:\\users\\admin\\anaconda3\\lib\\site-packages (1.26.4)\n",
      "Requirement already satisfied: scikit-learn in c:\\users\\admin\\anaconda3\\lib\\site-packages (1.4.2)\n",
      "Requirement already satisfied: scipy in c:\\users\\admin\\anaconda3\\lib\\site-packages (1.13.1)\n",
      "Requirement already satisfied: python-dateutil>=2.8.2 in c:\\users\\admin\\anaconda3\\lib\\site-packages (from pandas) (2.9.0.post0)\n",
      "Requirement already satisfied: pytz>=2020.1 in c:\\users\\admin\\anaconda3\\lib\\site-packages (from pandas) (2024.1)\n",
      "Requirement already satisfied: tzdata>=2022.7 in c:\\users\\admin\\anaconda3\\lib\\site-packages (from pandas) (2023.3)\n",
      "Requirement already satisfied: joblib>=1.2.0 in c:\\users\\admin\\anaconda3\\lib\\site-packages (from scikit-learn) (1.4.2)\n",
      "Requirement already satisfied: threadpoolctl>=2.0.0 in c:\\users\\admin\\anaconda3\\lib\\site-packages (from scikit-learn) (2.2.0)\n",
      "Requirement already satisfied: six>=1.5 in c:\\users\\admin\\anaconda3\\lib\\site-packages (from python-dateutil>=2.8.2->pandas) (1.16.0)\n",
      "Note: you may need to restart the kernel to use updated packages.\n"
     ]
    }
   ],
   "source": [
    "pip install pandas numpy scikit-learn scipy\n"
   ]
  },
  {
   "cell_type": "code",
   "execution_count": 9,
   "id": "f498c1d7-7297-4a10-8152-1efc667a1b6f",
   "metadata": {},
   "outputs": [],
   "source": [
    "import pandas as pd\n",
    "import numpy as np\n",
    "from sklearn.metrics.pairwise import cosine_similarity\n",
    "from scipy.sparse import csr_matrix"
   ]
  },
  {
   "cell_type": "code",
   "execution_count": 13,
   "id": "c52539dc-262b-4ad1-9e14-62bbda016e64",
   "metadata": {},
   "outputs": [],
   "source": [
    "# Data \n",
    "movies = pd.DataFrame({\n",
    "    'MovieID': [1, 2, 3, 4, 5],\n",
    "    'Title': ['Toy Story', 'Jumanji', 'Grumpier Old Men', 'Waiting to Exhale', 'Father of the Bride Part II'],\n",
    "    'Genres': ['Animation|Children|Comedy', 'Adventure|Children|Fantasy', 'Comedy|Romance', 'Comedy|Drama|Romance', 'Comedy']\n",
    "})"
   ]
  },
  {
   "cell_type": "code",
   "execution_count": 17,
   "id": "e3dbd375-c48e-48d3-851c-8bb60dccf341",
   "metadata": {},
   "outputs": [],
   "source": [
    "\n",
    "\n",
    "ratings = pd.DataFrame({\n",
    "    'UserID': [1, 2, 3, 4, 5, 1, 2, 3, 4, 5],\n",
    "    'MovieID': [1, 2, 3, 4, 5, 5, 4, 3, 2, 1],\n",
    "    'Rating': [5, 4, 3, 4, 5, 4, 2, 5, 3, 2]\n",
    "})"
   ]
  },
  {
   "cell_type": "code",
   "execution_count": 19,
   "id": "1f57017d-ee42-4ba2-9205-15af40920949",
   "metadata": {},
   "outputs": [],
   "source": [
    "# Collaborative Filtering (User-Based)\n",
    "def collaborative_filtering(user_id, ratings_df, movies_df, top_n=5):\n",
    "    # Create user-item matrix\n",
    "    user_movie_matrix = ratings_df.pivot(index='UserID', columns='MovieID', values='Rating').fillna(0)\n",
    "    user_movie_matrix_sparse = csr_matrix(user_movie_matrix.values)\n"
   ]
  },
  {
   "cell_type": "code",
   "execution_count": 27,
   "id": "2deb3aa7-331d-40b3-b618-d78b1a244512",
   "metadata": {},
   "outputs": [],
   "source": [
    "# Collaborative Filtering (User-Based)\n",
    "def collaborative_filtering(user_id, ratings_df, movies_df, top_n=5):\n",
    "    # Create user-item matrix\n",
    "    user_movie_matrix = ratings_df.pivot(index='UserID', columns='MovieID', values='Rating').fillna(0)\n",
    "    user_movie_matrix_sparse = csr_matrix(user_movie_matrix.values)\n",
    "    \n",
    "    # Calculate cosine similarity between users\n",
    "    user_similarity = cosine_similarity(user_movie_matrix_sparse)\n",
    "\n",
    "    # Get the target user's similarity vector\n",
    "    user_idx = user_id - 1\n",
    "    similar_users = user_similarity[user_idx]\n",
    "\n",
    "    # Get weighted average of ratings from similar users\n",
    "    weighted_ratings = similar_users.dot(user_movie_matrix.values) / np.array([np.abs(similar_users).sum()])\n",
    "\n",
    "    # Recommend top N movies the user hasn't rated yet\n",
    "    user_ratings = user_movie_matrix.loc[user_id]\n",
    "    unseen_movies = user_ratings[user_ratings == 0]\n",
    "    recommended_movie_ids = unseen_movies.index[np.argsort(weighted_ratings[user_idx, unseen_movies.index-1])[::-1][:top_n]]\n",
    "\n",
    "    return movies_df[movies_df['MovieID'].isin(recommended_movie_ids)]\n"
   ]
  },
  {
   "cell_type": "code",
   "execution_count": 45,
   "id": "e6cd4143-a627-4083-a5b2-02f1dac18df0",
   "metadata": {},
   "outputs": [],
   "source": [
    "# Add new data (optional functionality)\n",
    "def add_new_data(movies_df, new_movie):\n",
    "    new_movie_id = movies_df['MovieID'].max() + 1\n",
    "    new_movie['MovieID'] = new_movie_id\n",
    "    return movies_df.append(new_movie, ignore_index=True)\n"
   ]
  },
  {
   "cell_type": "code",
   "execution_count": 47,
   "id": "b92a6e2f-f077-4d0a-a391-10ee09907e9c",
   "metadata": {},
   "outputs": [],
   "source": [
    "# Collaborative Filtering (User-Based)\n",
    "def collaborative_filtering(user_id, ratings_df, movies_df, top_n=5):\n",
    "    # Handle duplicates by averaging the ratings\n",
    "    ratings_df = ratings_df.groupby(['UserID', 'MovieID']).agg({'Rating': 'mean'}).reset_index()\n",
    "\n",
    "    # Create user-item matrix\n",
    "    user_movie_matrix = ratings_df.pivot(index='UserID', columns='MovieID', values='Rating').fillna(0)\n",
    "    user_movie_matrix_sparse = csr_matrix(user_movie_matrix.values)\n",
    "    \n",
    "    # Calculate cosine similarity between users\n",
    "    user_similarity = cosine_similarity(user_movie_matrix_sparse)\n",
    "\n",
    "    # Get the target user's similarity vector\n",
    "    user_idx = user_id - 1\n",
    "    similar_users = user_similarity[user_idx]\n",
    "\n",
    "    # Get weighted average of ratings from similar users\n",
    "    weighted_ratings = similar_users.dot(user_movie_matrix.values) / np.array([np.abs(similar_users).sum()])\n",
    "\n",
    "    # Recommend top N movies the user hasn't rated yet\n",
    "    user_ratings = user_movie_matrix.loc[user_id]\n",
    "    unseen_movies = user_ratings[user_ratings == 0]\n",
    "    \n",
    "    # Fix: Use 1D weighted_ratings[user_idx] to get movie recommendations\n",
    "    recommended_movie_ids = unseen_movies.index[np.argsort(weighted_ratings[unseen_movies.index - 1])[::-1][:top_n]]\n",
    "\n",
    "    return movies_df[movies_df['MovieID'].isin(recommended_movie_ids)]\n"
   ]
  },
  {
   "cell_type": "code",
   "execution_count": 60,
   "id": "a38b2a3e-e34a-4468-8e6c-11d7de1d6ce5",
   "metadata": {},
   "outputs": [],
   "source": [
    "# Content-Based Filtering\n",
    "def content_based_filtering(movie_id, movies_df, top_n=5):\n",
    "    # Create movie-genre matrix\n",
    "    genres_matrix = movies_df['Genres'].str.get_dummies('|')\n",
    "    \n",
    "    # Compute cosine similarity between movies\n",
    "    movie_similarity = cosine_similarity(genres_matrix)\n",
    "\n",
    "    # Get the target movie's similarity vector\n",
    "    movie_idx = movies_df[movies_df['MovieID'] == movie_id].index[0]\n",
    "    similar_movies = movie_similarity[movie_idx]\n",
    "\n",
    "    # Recommend top N similar movies\n",
    "    similar_movie_ids = np.argsort(similar_movies)[::-1][1:top_n+1]\n",
    "    return movies_df.iloc[similar_movie_ids]\n"
   ]
  },
  {
   "cell_type": "code",
   "execution_count": 62,
   "id": "7ad57104-1e07-41ad-bec9-ad4a40ddd2f2",
   "metadata": {},
   "outputs": [
    {
     "name": "stdout",
     "output_type": "stream",
     "text": [
      "\n",
      "Content-Based Recommendations for Movie 'Toy Story':\n",
      "   MovieID                        Title                      Genres\n",
      "4        5  Father of the Bride Part II                      Comedy\n",
      "2        3             Grumpier Old Men              Comedy|Romance\n",
      "3        4            Waiting to Exhale        Comedy|Drama|Romance\n",
      "1        2                      Jumanji  Adventure|Children|Fantasy\n"
     ]
    }
   ],
   "source": [
    "# Example usage for content-based filtering\n",
    "print(\"\\nContent-Based Recommendations for Movie 'Toy Story':\")\n",
    "print(content_based_filtering(1, movies))\n"
   ]
  },
  {
   "cell_type": "code",
   "execution_count": null,
   "id": "a1a8ed67-c630-429d-a616-0cc3235830e0",
   "metadata": {},
   "outputs": [],
   "source": []
  },
  {
   "cell_type": "code",
   "execution_count": null,
   "id": "22dabfd8-7417-43b9-a3bd-a2d7a209d65d",
   "metadata": {},
   "outputs": [],
   "source": []
  },
  {
   "cell_type": "code",
   "execution_count": null,
   "id": "a8391802-ffa7-4623-b991-de29aedb6d6e",
   "metadata": {},
   "outputs": [],
   "source": []
  }
 ],
 "metadata": {
  "kernelspec": {
   "display_name": "Python 3 (ipykernel)",
   "language": "python",
   "name": "python3"
  },
  "language_info": {
   "codemirror_mode": {
    "name": "ipython",
    "version": 3
   },
   "file_extension": ".py",
   "mimetype": "text/x-python",
   "name": "python",
   "nbconvert_exporter": "python",
   "pygments_lexer": "ipython3",
   "version": "3.12.4"
  }
 },
 "nbformat": 4,
 "nbformat_minor": 5
}
